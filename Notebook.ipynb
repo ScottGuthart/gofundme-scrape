{
 "cells": [
  {
   "cell_type": "markdown",
   "id": "dde64b8a-9282-49ee-991b-62705478b166",
   "metadata": {},
   "source": [
    "# 1. Define Functions"
   ]
  },
  {
   "cell_type": "code",
   "execution_count": null,
   "id": "ddbacb76-4a24-4f44-84e3-c01b607cd6b8",
   "metadata": {},
   "outputs": [],
   "source": [
    "from time import sleep\n",
    "import csv\n",
    "import requests\n",
    "\n",
    "def dollar_string_to_int(string):\n",
    "    try:\n",
    "        return(float(string.replace(',','').replace('$','')))\n",
    "    except:\n",
    "        return string\n",
    "    \n",
    "def get_link_data(link):\n",
    "    row = ['', '']\n",
    "    if link and 'giveinkind' not in link:\n",
    "        try:\n",
    "            r = requests.get(link)\n",
    "        except:\n",
    "            return row\n",
    "        if r.status_code == 200:\n",
    "            text = r.text\n",
    "            raised_start_index = text.index('m-progress-meter-heading') + 26\n",
    "            raised_end_index = raised_start_index + text[raised_start_index:].find('<')\n",
    "            raised = text[raised_start_index:raised_end_index]\n",
    "            raised = dollar_string_to_int(raised)\n",
    "\n",
    "            goal_start_index = raised_end_index + text[raised_end_index:].find('raised of ') + 10\n",
    "            goal_end_index = goal_start_index + text[goal_start_index:].find(' ')\n",
    "            goal = text[goal_start_index:goal_end_index]\n",
    "            goal = dollar_string_to_int(goal)\n",
    "            \n",
    "            if isinstance(goal, float):\n",
    "                pct_raised = raised / goal\n",
    "                row = [f'${raised:,.0f}', f'{pct_raised:.0%}']\n",
    "            else:\n",
    "                row = [f'${raised:,.0f}', '']\n",
    "    return row"
   ]
  },
  {
   "cell_type": "markdown",
   "id": "0b9c77bc-f1c2-4f9d-9042-a13d30468b7e",
   "metadata": {},
   "source": [
    "# 2. Get Data From GoFundMe Links\n",
    "Pulls Data from a CSV file named 'links.csv' and creates a csv file named 'results.csv'"
   ]
  },
  {
   "cell_type": "code",
   "execution_count": null,
   "id": "2caf3966-73fd-4057-becd-48e17a88b01b",
   "metadata": {},
   "outputs": [],
   "source": [
    "print('Running...')\n",
    "data = []\n",
    "with open('links.csv', newline='') as csvfile:\n",
    "    reader = csv.reader(csvfile)\n",
    "    rows_done = 0\n",
    "    for row in reader:\n",
    "        family_name = row[0]\n",
    "        link = row[1]\n",
    "        row_data = get_link_data(link)\n",
    "        data.append([family_name] + row_data)\n",
    "        \n",
    "        rows_done += 1\n",
    "        # if rows_done == 5:\n",
    "        #     break\n",
    "        \n",
    "        # sleeptime = random.uniform(1, 2.5)\n",
    "        # sleep(sleeptime)\n",
    "        print(rows_done, end=' ')\n",
    "data = [['Name', 'Raised', 'Percent Raised']] + data[1:]\n",
    "\n",
    "with open('result.csv', 'w', newline='\\n') as csvfile:\n",
    "    writer = csv.writer(csvfile)\n",
    "    for row in data:\n",
    "        writer.writerow(row)\n",
    "        \n",
    "print('All done!')"
   ]
  }
 ],
 "metadata": {
  "kernelspec": {
   "display_name": "Python 3 (ipykernel)",
   "language": "python",
   "name": "python3"
  },
  "language_info": {
   "codemirror_mode": {
    "name": "ipython",
    "version": 3
   },
   "file_extension": ".py",
   "mimetype": "text/x-python",
   "name": "python",
   "nbconvert_exporter": "python",
   "pygments_lexer": "ipython3",
   "version": "3.9.7"
  }
 },
 "nbformat": 4,
 "nbformat_minor": 5
}
